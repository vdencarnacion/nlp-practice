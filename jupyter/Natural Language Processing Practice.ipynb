{
 "cells": [
  {
   "cell_type": "markdown",
   "metadata": {},
   "source": [
    "This aims to be a documented practice to NLP.\n",
    "\n",
    "For starters, I will be trying this: https://www.kaggle.com/aaron7sun/stocknews\n",
    "\n",
    "But then I am not really familiar with AUC and decided to follow the definition from http://fastml.com/what-you-wanted-to-know-about-auc/\n",
    "\n",
    "Now I need to be able process the words in Python (personal preference) and decided to use the 'nltk package'\n",
    "\n",
    "Here's how I set it up using the command line:\n",
    "```\n",
    "pip install nltk\n",
    "import nltk\n",
    "nltk.download() #choose 'all' as in All packages\n",
    "```"
   ]
  },
  {
   "cell_type": "code",
   "execution_count": 6,
   "metadata": {},
   "outputs": [
    {
     "name": "stdout",
     "output_type": "stream",
     "text": [
      "text1.concordance('monstrous')----------------\n",
      "Displaying 11 of 11 matches:\n",
      "ong the former , one was of a most monstrous size . ... This came towards us , \n",
      "ON OF THE PSALMS . \" Touching that monstrous bulk of the whale or ork we have r\n",
      "ll over with a heathenish array of monstrous clubs and spears . Some were thick\n",
      "d as you gazed , and wondered what monstrous cannibal and savage could ever hav\n",
      "that has survived the flood ; most monstrous and most mountainous ! That Himmal\n",
      "they might scout at Moby Dick as a monstrous fable , or still worse and more de\n",
      "th of Radney .'\" CHAPTER 55 Of the Monstrous Pictures of Whales . I shall ere l\n",
      "ing Scenes . In connexion with the monstrous pictures of whales , I am strongly\n",
      "ere to enter upon those still more monstrous stories of them which are to be fo\n",
      "ght have been rummaged out of this monstrous cabinet there is no telling . But \n",
      "of Whale - Bones ; for Whales of a monstrous size are oftentimes cast up dead u\n",
      "text1.similar('monstrous')----------------\n",
      "true contemptible christian abundant few part mean careful puzzled\n",
      "mystifying passing curious loving wise doleful gamesome singular\n",
      "delightfully perilous fearless\n",
      "text2.similar('monstrous')----------------\n",
      "very so exceedingly heartily a as good great extremely remarkably\n",
      "sweet vast amazingly\n"
     ]
    }
   ],
   "source": [
    "# Practice code\n",
    "import nltk\n",
    "from nltk.book import *\n",
    "\n",
    "sentence = \"\"\"At eight o'clock on Thursday morning Arthur didn't feel very good.\"\"\"\n",
    "tokens = nltk.word_tokenize(sentence)\n",
    "tokens\n",
    "text1\n",
    "print('text1.concordance(\\'monstrous\\')----------------')\n",
    "text1.concordance('monstrous')\n",
    "print('text1.similar(\\'monstrous\\')----------------')\n",
    "text1.similar('monstrous')\n",
    "print('text2.similar(\\'monstrous\\')----------------')\n",
    "text2.similar('monstrous')"
   ]
  },
  {
   "cell_type": "code",
   "execution_count": null,
   "metadata": {
    "collapsed": true
   },
   "outputs": [],
   "source": []
  }
 ],
 "metadata": {
  "kernelspec": {
   "display_name": "Python 3",
   "language": "python",
   "name": "python3"
  },
  "language_info": {
   "codemirror_mode": {
    "name": "ipython",
    "version": 3
   },
   "file_extension": ".py",
   "mimetype": "text/x-python",
   "name": "python",
   "nbconvert_exporter": "python",
   "pygments_lexer": "ipython3",
   "version": "3.6.1"
  }
 },
 "nbformat": 4,
 "nbformat_minor": 2
}
