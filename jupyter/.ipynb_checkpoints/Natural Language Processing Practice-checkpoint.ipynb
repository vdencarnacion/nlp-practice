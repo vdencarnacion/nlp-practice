{
 "cells": [
  {
   "cell_type": "markdown",
   "metadata": {},
   "source": [
    "This aims to be a documented practice to NLP.\n",
    "\n",
    "For starters, I will be trying this: https://www.kaggle.com/aaron7sun/stocknews\n",
    "\n",
    "But then I am not really familiar with AUC and decided to follow the definition from http://fastml.com/what-you-wanted-to-know-about-auc/\n",
    "\n",
    "Now I need to be able process the words in Python (personal preference) and decided to use the 'nltk package'\n",
    "\n",
    "Here's how I set it up using the command line:\n",
    "```\n",
    "pip install nltk\n",
    "import nltk\n",
    "nltk.download() #choose 'all' as in All packages\n",
    "```"
   ]
  },
  {
   "cell_type": "code",
   "execution_count": 5,
   "metadata": {},
   "outputs": [
    {
     "ename": "SyntaxError",
     "evalue": "invalid syntax (<ipython-input-5-5b07081ecc17>, line 13)",
     "output_type": "error",
     "traceback": [
      "\u001b[1;36m  File \u001b[1;32m\"<ipython-input-5-5b07081ecc17>\"\u001b[1;36m, line \u001b[1;32m13\u001b[0m\n\u001b[1;33m    print('text2.similar('monstrous')----------------')\u001b[0m\n\u001b[1;37m                                  ^\u001b[0m\n\u001b[1;31mSyntaxError\u001b[0m\u001b[1;31m:\u001b[0m invalid syntax\n"
     ]
    }
   ],
   "source": [
    "# Practice code\n",
    "import nltk\n",
    "from nltk.book import *\n",
    "\n",
    "sentence = \"\"\"At eight o'clock on Thursday morning Arthur didn't feel very good.\"\"\"\n",
    "tokens = nltk.word_tokenize(sentence)\n",
    "tokens\n",
    "text1\n",
    "print('text1.concordance(\\'monstrous\\')----------------')\n",
    "text1.concordance('monstrous')\n",
    "print('text1.similar(\\'monstrous\\')----------------')\n",
    "text1.similar('monstrous')\n",
    "print('text2.similar(\\'monstrous\\')----------------')\n",
    "text2.similar('monstrous')"
   ]
  },
  {
   "cell_type": "code",
   "execution_count": null,
   "metadata": {
    "collapsed": true
   },
   "outputs": [],
   "source": []
  }
 ],
 "metadata": {
  "kernelspec": {
   "display_name": "Python 3",
   "language": "python",
   "name": "python3"
  },
  "language_info": {
   "codemirror_mode": {
    "name": "ipython",
    "version": 3
   },
   "file_extension": ".py",
   "mimetype": "text/x-python",
   "name": "python",
   "nbconvert_exporter": "python",
   "pygments_lexer": "ipython3",
   "version": "3.6.1"
  }
 },
 "nbformat": 4,
 "nbformat_minor": 2
}
